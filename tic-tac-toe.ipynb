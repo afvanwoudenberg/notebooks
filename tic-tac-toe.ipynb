{
 "cells": [
  {
   "cell_type": "markdown",
   "id": "f86eeb7d",
   "metadata": {},
   "source": [
    "# Tic-Tac-Toe\n",
    "\n",
    "Aswin van Woudenberg (https://www.aswinvanwoudenberg.com | https://github.com/afvanwoudenberg)\n",
    "\n",
    "## Introduction\n",
    "\n",
    "This notebook implements various agents for the game of Tic-Tac-Toe. \n",
    "\n",
    "## Import libraries\n",
    "\n",
    "We start by importing some libraries."
   ]
  },
  {
   "cell_type": "code",
   "execution_count": 1,
   "id": "be1cf000",
   "metadata": {},
   "outputs": [],
   "source": [
    "%matplotlib widget\n",
    "import matplotlib.pyplot as plt\n",
    "import ipywidgets as widgets\n",
    "import math\n",
    "import random\n",
    "\n",
    "from matplotlib.backend_bases import MouseButton\n",
    "from enum import Enum, auto"
   ]
  },
  {
   "cell_type": "markdown",
   "id": "7c63e417",
   "metadata": {},
   "source": [
    "## Some userful enums\n",
    "\n",
    "We define a Player enum that represents the player."
   ]
  },
  {
   "cell_type": "code",
   "execution_count": 2,
   "id": "fbd6a18f",
   "metadata": {},
   "outputs": [],
   "source": [
    "class Player(Enum):\n",
    "    X=auto()\n",
    "    O=auto()"
   ]
  },
  {
   "cell_type": "markdown",
   "id": "99587cf1",
   "metadata": {},
   "source": [
    "And a PlayerType enum."
   ]
  },
  {
   "cell_type": "code",
   "execution_count": 3,
   "id": "a0e5301c",
   "metadata": {},
   "outputs": [],
   "source": [
    "class PlayerType(Enum):\n",
    "    HUMAN=auto()\n",
    "    MACHINE=auto()"
   ]
  },
  {
   "cell_type": "markdown",
   "id": "2c0f6131",
   "metadata": {},
   "source": [
    "## Tic-Tac-Toe class\n",
    "\n",
    "We create a class that encapsulates the rules and gameplay. The render method uses the matplotlib library to show a tic-tac-toe board. By binding event handlers we can make the board interactive."
   ]
  },
  {
   "cell_type": "code",
   "execution_count": 4,
   "id": "5237ddc7",
   "metadata": {},
   "outputs": [],
   "source": [
    "class TicTacToe():\n",
    "    def __init__(self):\n",
    "        self.board = [None] * 9\n",
    "    \n",
    "    def get_moves(self):\n",
    "        if self.get_winner():\n",
    "            return []\n",
    "        return [i for (i, m) in enumerate(self.board) if m == None]\n",
    "\n",
    "    def get_current_player(self):\n",
    "        if self.get_moves():\n",
    "            return Player.O if self.board.count(None) % 2 == 0 else Player.X\n",
    "        return None\n",
    "    \n",
    "    def __get_winner_line(self, a, b, c):\n",
    "        if self.board[a] and self.board[a] == self.board[b] and self.board[b] == self.board[c]:\n",
    "            return self.board[a]\n",
    "        else:\n",
    "            return None\n",
    "    \n",
    "    def get_winner(self):\n",
    "        for i in range(3):\n",
    "            if self.__get_winner_line(i*3,i*3+1,i*3+2):\n",
    "                return self.board[i*3]\n",
    "            if self.__get_winner_line(i,3+i,6+i):\n",
    "                return self.board[i]\n",
    "        if self.__get_winner_line(0,4,8):\n",
    "            return self.board[0]\n",
    "        if self.__get_winner_line(2,4,6):\n",
    "            return self.board[2]\n",
    "        return None\n",
    "    \n",
    "    def step(self, index):\n",
    "        if index in self.get_moves():\n",
    "            self.board[index] = self.get_current_player()\n",
    "        else:\n",
    "            raise ValueError(\"Invalid move\")\n",
    "    \n",
    "    def undo(self, index):\n",
    "        self.board[index] = None\n",
    "            \n",
    "    def reset(self):\n",
    "        self.board = [None] * 9\n",
    "    \n",
    "    def __get_plot_coords(self):\n",
    "        x_vals_x = []\n",
    "        y_vals_x = []\n",
    "        x_vals_o = []\n",
    "        y_vals_o = []\n",
    "        for i, v in enumerate(self.board):\n",
    "            if v == Player.X:\n",
    "                y, x = divmod(i, 3)\n",
    "                x_vals_x.append(x)\n",
    "                y_vals_x.append(y)\n",
    "            elif v == Player.O:\n",
    "                y, x = divmod(i, 3)\n",
    "                x_vals_o.append(x)\n",
    "                y_vals_o.append(y)\n",
    "\n",
    "        return x_vals_x, y_vals_x, x_vals_o, y_vals_o\n",
    "    \n",
    "    def render(self):\n",
    "        x_vals_x, y_vals_x, x_vals_o, y_vals_o = self.__get_plot_coords()\n",
    "        plt.clf()\n",
    "        \n",
    "        if self.get_winner() == Player.X:\n",
    "            plt.title(\"X wins!\")\n",
    "        elif self.get_winner() == Player.O:\n",
    "            plt.title(\"O wins!\")\n",
    "        else:\n",
    "            if self.get_current_player() == Player.X:\n",
    "                plt.title(\"X's turn\")\n",
    "            elif self.get_current_player() == Player.O:\n",
    "                plt.title(\"O's turn\")\n",
    "            else:\n",
    "                plt.title(\"It's a tie\")\n",
    "        \n",
    "        fig = plt.gca()\n",
    "        M = fig.transData.get_matrix()\n",
    "        scale = min(M[0,0], M[1,1])\n",
    "        markersize = (scale * 0.15)**2\n",
    "        \n",
    "        plt.scatter(x_vals_o, y_vals_o, s=markersize, facecolors='none', edgecolors='red', marker='o')\n",
    "        plt.scatter(x_vals_x, y_vals_x, s=markersize, facecolors='blue', marker='x')\n",
    "        plt.xlim(-1, 3)\n",
    "        plt.ylim(-1, 3)\n",
    "        \n",
    "        fig.set_aspect('equal')\n",
    "        plt.axis('off')\n",
    "        plt.plot([1.5, 1.5], [-0.5, 2.5], 'black')\n",
    "        plt.plot([0.5, 0.5], [-0.5, 2.5], 'black')\n",
    "        plt.plot([-0.5, 2.5], [1.5, 1.5], 'black')\n",
    "        plt.plot([-0.5, 2.5], [0.5, 0.5], 'black')\n",
    "        \n",
    "        for i in range(3):\n",
    "            if self.__get_winner_line(i*3,i*3+1,i*3+2):\n",
    "                plt.plot([-0.25, 2.25], [i, i], 'black', linewidth=15, alpha=0.3, solid_capstyle='round')\n",
    "            if self.__get_winner_line(i,3+i,6+i):\n",
    "                plt.plot([i, i], [-0.25, 2.25], 'black', linewidth=15, alpha=0.3, solid_capstyle='round')\n",
    "        if self.__get_winner_line(0,4,8):\n",
    "            plt.plot([-0.25, 2.25], [-0.25, 2.25], 'black', linewidth=15, alpha=0.3, solid_capstyle='round')\n",
    "        if self.__get_winner_line(2,4,6):\n",
    "            plt.plot([-0.25, 2.25], [2.25, -0.25], 'black', linewidth=15, alpha=0.3, solid_capstyle='round')\n",
    "        \n",
    "        plt.draw()"
   ]
  },
  {
   "cell_type": "markdown",
   "id": "c2a96ce7",
   "metadata": {},
   "source": [
    "## AI agents\n",
    "\n",
    "We let the user play against three different algorithms:\n",
    "\n",
    "* Random moves\n",
    "* Minimax with $\\alpha\\beta$-pruning\n",
    "* Monte Carlo sampling\n",
    "\n",
    "### Random agent\n",
    "\n",
    "The following code returns a random move."
   ]
  },
  {
   "cell_type": "code",
   "execution_count": 5,
   "id": "88b7c9a6",
   "metadata": {},
   "outputs": [],
   "source": [
    "def random_move(state):\n",
    "    return random.choice(state.get_moves())"
   ]
  },
  {
   "cell_type": "markdown",
   "id": "e6eb98d7",
   "metadata": {},
   "source": [
    "## Minimax with $\\alpha\\beta$ pruning\n",
    "\n",
    "We can use minimax with $\\alpha\\beta$ pruning to implement our AI. Because the game tree only goes at most 9 plies deep we always search until the end. This way our evaluation function can be very simple and simply returns +inf if the player ends up winning, -inf if the player ends up losing, and 0 otherwise."
   ]
  },
  {
   "cell_type": "code",
   "execution_count": 6,
   "id": "f3d3f007",
   "metadata": {},
   "outputs": [],
   "source": [
    "def eval(state, player):\n",
    "    if not state.get_winner():\n",
    "        return 0\n",
    "    elif state.get_winner() == player:\n",
    "        return math.inf\n",
    "    else:\n",
    "        return -math.inf"
   ]
  },
  {
   "cell_type": "markdown",
   "id": "8bd372c4",
   "metadata": {},
   "source": [
    "The minimax algorithm below shuffles the list of possible moves to create some variation in the moves it makes."
   ]
  },
  {
   "cell_type": "code",
   "execution_count": 7,
   "id": "07dd3026",
   "metadata": {},
   "outputs": [],
   "source": [
    "def alpha_beta_(state, ply, player, opponent, alpha, beta):\n",
    "    if ply == 0:\n",
    "        return None, eval(state, player)\n",
    "    \n",
    "    moves = state.get_moves()\n",
    "    if not moves:\n",
    "        return None, eval(state, player)\n",
    "    random.shuffle(moves)\n",
    "    \n",
    "    best = None, alpha\n",
    "    for move in moves:\n",
    "        state.step(move)\n",
    "        move_eval = alpha_beta_(state, ply-1, opponent, player, -beta, -alpha)\n",
    "        state.undo(move)\n",
    "        \n",
    "        if -move_eval[1] > alpha:\n",
    "            alpha = -move_eval[1]\n",
    "            best = move, alpha\n",
    "        if alpha >= beta:\n",
    "            return best\n",
    "    return best\n",
    "\n",
    "def alpha_beta(state, ply=9):\n",
    "    player = state.get_current_player()\n",
    "    opponent = Player.O if player == Player.X else Player.X\n",
    "\n",
    "    return alpha_beta_(state, ply, player, opponent, -math.inf, math.inf)[0]"
   ]
  },
  {
   "cell_type": "markdown",
   "id": "a945a3ba",
   "metadata": {},
   "source": [
    "One disadvantage of using minimax is that the algorithm assumes that the opponent doesn't make mistakes. In Tic-Tac-Toe, if neither player ever makes a mistake it doesn't matter what the first move is. The game will always end in a draw. \n",
    "\n",
    "## Monte Carlo sampling\n",
    "\n",
    "Another alternative would be to use Monte Carlo sampling. The general idea behind this approach is to play a set of games with random moves starting from the current position, and then use the results of these games to compute a good move. When a machine player wins one of these random games, it wants to favor the squares in which it played and avoid the squares in which the opponent played. Conversely, when it loses one of these random games, it wants to favor the squares in which the opponent played (to block the opponent) and avoid the squares in which it played."
   ]
  },
  {
   "cell_type": "code",
   "execution_count": 8,
   "id": "cd54599c",
   "metadata": {},
   "outputs": [],
   "source": [
    "MC_MATCH = 1\n",
    "MC_OTHER = 1\n",
    "\n",
    "def mc_trials(state, n_trials):\n",
    "    scores = [0] * 9\n",
    "    player = state.get_current_player()\n",
    "    opponent = Player.O if player == Player.X else Player.X\n",
    "    board = state.board.copy() # backup old state\n",
    "    \n",
    "    for i in range(9):\n",
    "        if state.board[i]:\n",
    "            scores[i] = -math.inf # Set all occupied squares to -∞        \n",
    "    \n",
    "    for _ in range(n_trials):        \n",
    "        moves = state.get_moves()\n",
    "        while moves:\n",
    "            move = random.choice(moves)\n",
    "            state.step(move)\n",
    "            moves = state.get_moves()\n",
    "        \n",
    "        winner = state.get_winner()\n",
    "        if winner == player:\n",
    "            for i in range(9):\n",
    "                if not board[i] and state.board[i]:\n",
    "                    if state.board[i] == player:\n",
    "                        scores[i] += MC_MATCH\n",
    "                    else:\n",
    "                        scores[i] -= MC_OTHER\n",
    "        elif winner == opponent:\n",
    "            for i in range(9):\n",
    "                if not board[i] and state.board[i]:\n",
    "                    if state.board[i] == player:\n",
    "                        scores[i] -= MC_MATCH\n",
    "                    else:\n",
    "                        scores[i] += MC_OTHER\n",
    "        \n",
    "        state.board = board.copy() # restore state\n",
    "    \n",
    "    return scores.index(max(scores))\n",
    "\n",
    "mc_trials10 = lambda state: mc_trials(state, 10)\n",
    "mc_trials100 = lambda state: mc_trials(state, 100)\n",
    "mc_trials500 = lambda state: mc_trials(state, 500)\n",
    "mc_trials1000 = lambda state: mc_trials(state, 1000)"
   ]
  },
  {
   "cell_type": "markdown",
   "id": "055cf981",
   "metadata": {},
   "source": [
    "The disadvantage of this algorithm is that it doesn't favor ending in a draw over losing."
   ]
  },
  {
   "cell_type": "markdown",
   "id": "d7ab98f8",
   "metadata": {},
   "source": [
    "## A user interface\n",
    "\n",
    "We use matplotlib to visualize the board. We handle button press and resize events. Every time a game is finished we switch sides with the computer."
   ]
  },
  {
   "cell_type": "code",
   "execution_count": 9,
   "id": "9a2b7d94",
   "metadata": {},
   "outputs": [],
   "source": [
    "player_types = [PlayerType.HUMAN, PlayerType.MACHINE]"
   ]
  },
  {
   "cell_type": "markdown",
   "id": "e94c3b70",
   "metadata": {},
   "source": [
    "Create an instance of the TicTacToe class."
   ]
  },
  {
   "cell_type": "code",
   "execution_count": 10,
   "id": "e52ef196",
   "metadata": {},
   "outputs": [],
   "source": [
    "game = TicTacToe()"
   ]
  },
  {
   "cell_type": "markdown",
   "id": "4a859e6e",
   "metadata": {},
   "source": [
    "We create a dictionary of possible agents the user can select from."
   ]
  },
  {
   "cell_type": "code",
   "execution_count": 11,
   "id": "8c0732a5",
   "metadata": {},
   "outputs": [],
   "source": [
    "agents = {\n",
    "    \"Random\": random_move,\n",
    "    \"Monte Carlo (10 trials)\": mc_trials10,\n",
    "    \"Monte Carlo (100 trials)\": mc_trials100,\n",
    "    \"Monte Carlo (500 trials)\": mc_trials500,\n",
    "    \"Monte Carlo (1000 trials)\": mc_trials1000,\n",
    "    \"Minimax with αβ-pruning\": alpha_beta    \n",
    "}"
   ]
  },
  {
   "cell_type": "markdown",
   "id": "e1a6608a",
   "metadata": {},
   "source": [
    "The user can select the agent it wishes to compete with from a dropdown widget."
   ]
  },
  {
   "cell_type": "code",
   "execution_count": 12,
   "id": "04027b2b",
   "metadata": {},
   "outputs": [],
   "source": [
    "agent_dropdown = widgets.Dropdown(\n",
    "    options=list(agents.keys()), \n",
    "    value=\"Minimax with αβ-pruning\", \n",
    "    description='Agent:'\n",
    ")"
   ]
  },
  {
   "cell_type": "code",
   "execution_count": 13,
   "id": "df2f441b",
   "metadata": {},
   "outputs": [],
   "source": [
    "def on_plt_click(event):\n",
    "    if event.button == 1:\n",
    "        index = int(round(event.ydata, 0) * 3 + round(event.xdata, 0))\n",
    "        if game.get_moves():\n",
    "            game.step(index)\n",
    "        else:\n",
    "            game.reset()\n",
    "            player_types.reverse()\n",
    "        game.render()\n",
    "        if game.get_moves() and player_types[(len(game.get_moves()) + 1) % 2] == PlayerType.MACHINE:\n",
    "            move = agents[agent_dropdown.value](game)\n",
    "            game.step(move)\n",
    "            game.render()"
   ]
  },
  {
   "cell_type": "code",
   "execution_count": 14,
   "id": "f45a01fb",
   "metadata": {},
   "outputs": [],
   "source": [
    "def on_plt_resize(event):\n",
    "    game.render()"
   ]
  },
  {
   "cell_type": "code",
   "execution_count": 15,
   "id": "ed4858ef",
   "metadata": {
    "scrolled": false
   },
   "outputs": [
    {
     "data": {
      "application/vnd.jupyter.widget-view+json": {
       "model_id": "7910e94f50214cf2a19d0db6c72ee428",
       "version_major": 2,
       "version_minor": 0
      },
      "text/plain": [
       "Dropdown(description='Agent:', index=5, options=('Random', 'Monte Carlo (10 trials)', 'Monte Carlo (100 trials…"
      ]
     },
     "metadata": {},
     "output_type": "display_data"
    },
    {
     "data": {
      "application/vnd.jupyter.widget-view+json": {
       "model_id": "7418a4bc686644ca90df13ac176399b4",
       "version_major": 2,
       "version_minor": 0
      },
      "image/png": "[encoded data removed]",
      "text/html": [
       "\n",
       "            <div style=\"display: inline-block;\">\n",
       "                <div class=\"jupyter-widgets widget-label\" style=\"text-align: center;\">\n",
       "                    Tic-Tac-Toe\n",
       "                </div>\n",
       "                <img src='data:image/png;base64,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' width=640.0/>\n",
       "            </div>\n",
       "        "
      ],
      "text/plain": [
       "Canvas(footer_visible=False, header_visible=False, resizable=False, toolbar=Toolbar(toolitems=[('Home', 'Reset…"
      ]
     },
     "metadata": {},
     "output_type": "display_data"
    }
   ],
   "source": [
    "display(agent_dropdown)\n",
    "\n",
    "fig = plt.figure(\"Tic-Tac-Toe\")\n",
    "fig.canvas.toolbar_visible = False\n",
    "fig.canvas.header_visible = False\n",
    "fig.canvas.footer_visible = False\n",
    "fig.canvas.resizable = False\n",
    "\n",
    "game.render()\n",
    "\n",
    "plt.connect('button_press_event', on_plt_click)\n",
    "plt.connect('resize_event', on_plt_resize)\n",
    "\n",
    "plt.show()"
   ]
  },
  {
   "cell_type": "markdown",
   "id": "2fab23b7",
   "metadata": {},
   "source": [
    "Click an empty square to make a move. Once a game is finished click the board to start a new game. After each round you and the computer switch places."
   ]
  },
  {
   "cell_type": "code",
   "execution_count": null,
   "id": "7486a06e",
   "metadata": {},
   "outputs": [],
   "source": []
  }
 ],
 "metadata": {
  "kernelspec": {
   "display_name": "Python 3 (ipykernel)",
   "language": "python",
   "name": "python3"
  },
  "language_info": {
   "codemirror_mode": {
    "name": "ipython",
    "version": 3
   },
   "file_extension": ".py",
   "mimetype": "text/x-python",
   "name": "python",
   "nbconvert_exporter": "python",
   "pygments_lexer": "ipython3",
   "version": "3.8.12"
  }
 },
 "nbformat": 4,
 "nbformat_minor": 5
}
