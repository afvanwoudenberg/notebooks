{
 "cells": [
  {
   "cell_type": "markdown",
   "metadata": {
    "papermill": {
     "duration": 0.011334,
     "end_time": "2020-12-20T17:10:31.425285",
     "exception": false,
     "start_time": "2020-12-20T17:10:31.413951",
     "status": "completed"
    },
    "tags": []
   },
   "source": [
    "# Color palette\n",
    "\n",
    "Aswin van Woudenberg (https://www.aswinvanwoudenberg.com | https://github.com/afvanwoudenberg)\n",
    "\n",
    "## Introduction\n",
    "\n",
    "This notebook allows you to upload an image and get a custom set of colors generated based on the most dominant colors in the image.\n",
    "\n",
    "## Import libraries\n",
    "\n",
    "We start by importing the necessary libraries. The k-means clustering algorithm is used to calculate the mean color of each cluster to produce a palette."
   ]
  },
  {
   "cell_type": "code",
   "execution_count": 3,
   "metadata": {
    "execution": {
     "iopub.execute_input": "2020-12-20T17:10:31.454733Z",
     "iopub.status.busy": "2020-12-20T17:10:31.453926Z",
     "iopub.status.idle": "2020-12-20T17:10:32.968655Z",
     "shell.execute_reply": "2020-12-20T17:10:32.967869Z"
    },
    "papermill": {
     "duration": 1.53406,
     "end_time": "2020-12-20T17:10:32.968775",
     "exception": false,
     "start_time": "2020-12-20T17:10:31.434715",
     "status": "completed"
    },
    "tags": []
   },
   "outputs": [],
   "source": [
    "%matplotlib inline\n",
    "import cv2\n",
    "import ipywidgets as widgets\n",
    "import numpy as np\n",
    "import matplotlib.pyplot as plt\n",
    "import squarify\n",
    "import os\n",
    "\n",
    "from io import BytesIO\n",
    "from IPython.display import display, clear_output\n",
    "from sklearn.cluster import KMeans\n",
    "from PIL import Image"
   ]
  },
  {
   "cell_type": "markdown",
   "metadata": {
    "papermill": {
     "duration": 0.008631,
     "end_time": "2020-12-20T17:10:32.987584",
     "exception": false,
     "start_time": "2020-12-20T17:10:32.978953",
     "status": "completed"
    },
    "tags": []
   },
   "source": [
    "## Image processing\n",
    "\n",
    "We will output the hex value for the color of each cluster."
   ]
  },
  {
   "cell_type": "code",
   "execution_count": 4,
   "metadata": {
    "execution": {
     "iopub.execute_input": "2020-12-20T17:10:33.010720Z",
     "iopub.status.busy": "2020-12-20T17:10:33.010058Z",
     "iopub.status.idle": "2020-12-20T17:10:33.013360Z",
     "shell.execute_reply": "2020-12-20T17:10:33.012816Z"
    },
    "papermill": {
     "duration": 0.016958,
     "end_time": "2020-12-20T17:10:33.013467",
     "exception": false,
     "start_time": "2020-12-20T17:10:32.996509",
     "status": "completed"
    },
    "tags": []
   },
   "outputs": [],
   "source": [
    "def rgb_to_hex(r, g, b):\n",
    "    return \"#{:02x}{:02x}{:02x}\".format(r, g, b)"
   ]
  },
  {
   "cell_type": "markdown",
   "metadata": {
    "papermill": {
     "duration": 0.008709,
     "end_time": "2020-12-20T17:10:33.031391",
     "exception": false,
     "start_time": "2020-12-20T17:10:33.022682",
     "status": "completed"
    },
    "tags": []
   },
   "source": [
    "The next function takes care of the bulk of the work. Firstly it removes any transparent pixels and reshapes the image into a list of pixel values. This list of pixels is then fed into the sklearn KMeans algorithm together with the number of clusters/colors. After the pixels are clustered by similarity we draw a treemap. Optionally, the hex values of the clusters are used as the labels in the treemap."
   ]
  },
  {
   "cell_type": "code",
   "execution_count": 5,
   "metadata": {
    "execution": {
     "iopub.execute_input": "2020-12-20T17:10:33.052957Z",
     "iopub.status.busy": "2020-12-20T17:10:33.052225Z",
     "iopub.status.idle": "2020-12-20T17:10:33.064327Z",
     "shell.execute_reply": "2020-12-20T17:10:33.064895Z"
    },
    "papermill": {
     "duration": 0.024503,
     "end_time": "2020-12-20T17:10:33.065185",
     "exception": false,
     "start_time": "2020-12-20T17:10:33.040682",
     "status": "completed"
    },
    "tags": []
   },
   "outputs": [],
   "source": [
    "def update_palette(image, n_clusters, output, show_labels=True):\n",
    "    # construct an array from the bytes and isolate the non-transparent pixels\n",
    "    x = np.frombuffer(image.value, dtype='uint8')\n",
    "    img = cv2.imdecode(x, cv2.IMREAD_UNCHANGED)\n",
    "    r, k, d = img.shape\n",
    "    if d == 4:\n",
    "        pixels = img[img[:,:,3] == 255]\n",
    "        pixels = pixels[:,:3]\n",
    "    else:\n",
    "        pixels = img.reshape((r * k, d))\n",
    "    \n",
    "    # cluster pixels\n",
    "    clt = KMeans(n_clusters = n_clusters)\n",
    "    clt.fit(pixels)\n",
    "    \n",
    "    # show our color chart\n",
    "    with output:\n",
    "        clear_output(wait=True)\n",
    "        labels = [rgb_to_hex(int(r), int(g), int(b)) for b, g, r in clt.cluster_centers_]\n",
    "        _, sizes = np.unique(clt.labels_, return_counts=True)\n",
    "        if show_labels:\n",
    "            squarify.plot(sizes=sizes, label=labels, color=labels)\n",
    "        else:\n",
    "            squarify.plot(sizes=sizes, color=labels)\n",
    "        plt.axis('off')\n",
    "        plt.show()"
   ]
  },
  {
   "cell_type": "markdown",
   "metadata": {
    "papermill": {
     "duration": 0.008873,
     "end_time": "2020-12-20T17:10:33.083679",
     "exception": false,
     "start_time": "2020-12-20T17:10:33.074806",
     "status": "completed"
    },
    "tags": []
   },
   "source": [
    "## A user interface\n",
    "\n",
    "We create a `FileUpload`, `BoundedIntText`, `Checkbox` and `Image` widget as our GUI. This allows us to select and upload an image, set the number of clusters/colors, and choose to show or hide the hex color values. The `Image` widget shows the file that has been uploaded. Additionally, a `HBox` is created to horizontally outline the widgets. Furthermore, we create an `Output` widget for our treemap to be drawn in."
   ]
  },
  {
   "cell_type": "code",
   "execution_count": 6,
   "metadata": {
    "execution": {
     "iopub.execute_input": "2020-12-20T17:10:33.105610Z",
     "iopub.status.busy": "2020-12-20T17:10:33.104847Z",
     "iopub.status.idle": "2020-12-20T17:10:33.147987Z",
     "shell.execute_reply": "2020-12-20T17:10:33.148530Z"
    },
    "papermill": {
     "duration": 0.05578,
     "end_time": "2020-12-20T17:10:33.148678",
     "exception": false,
     "start_time": "2020-12-20T17:10:33.092898",
     "status": "completed"
    },
    "tags": []
   },
   "outputs": [],
   "source": [
    "fileUpload = widgets.FileUpload(\n",
    "    multiple = False\n",
    ")\n",
    "boundedIntText = widgets.BoundedIntText(\n",
    "    value = 5,\n",
    "    min = 2,\n",
    "    max = 15,\n",
    "    step = 1,\n",
    "    description = 'Clusters:',\n",
    "    disabled = True\n",
    ")\n",
    "checkbox = widgets.Checkbox(\n",
    "    value = True,\n",
    "    description = 'Show hex codes:',\n",
    "    disabled = True\n",
    ")\n",
    "hBox = widgets.HBox([fileUpload, boundedIntText, checkbox])\n",
    "image = widgets.Image(\n",
    "    layout=widgets.Layout(display='none', width='500px')\n",
    ")\n",
    "output = widgets.Output()"
   ]
  },
  {
   "cell_type": "markdown",
   "metadata": {
    "papermill": {
     "duration": 0.009285,
     "end_time": "2020-12-20T17:10:33.167645",
     "exception": false,
     "start_time": "2020-12-20T17:10:33.158360",
     "status": "completed"
    },
    "tags": []
   },
   "source": [
    "Next, we'll add some interactivity to our widgets. On every statechange, the `update_palette` function above is called to recalculate the clustering of pixels."
   ]
  },
  {
   "cell_type": "code",
   "execution_count": 7,
   "metadata": {
    "execution": {
     "iopub.execute_input": "2020-12-20T17:10:33.190577Z",
     "iopub.status.busy": "2020-12-20T17:10:33.189788Z",
     "iopub.status.idle": "2020-12-20T17:10:33.194548Z",
     "shell.execute_reply": "2020-12-20T17:10:33.195100Z"
    },
    "papermill": {
     "duration": 0.017671,
     "end_time": "2020-12-20T17:10:33.195271",
     "exception": false,
     "start_time": "2020-12-20T17:10:33.177600",
     "status": "completed"
    },
    "tags": []
   },
   "outputs": [],
   "source": [
    "def on_checkbox_changed(c):\n",
    "    update_palette(image, boundedIntText.value, output, c.new)\n",
    "\n",
    "checkbox.observe(on_checkbox_changed, 'value')"
   ]
  },
  {
   "cell_type": "code",
   "execution_count": 8,
   "metadata": {
    "execution": {
     "iopub.execute_input": "2020-12-20T17:10:33.218287Z",
     "iopub.status.busy": "2020-12-20T17:10:33.217642Z",
     "iopub.status.idle": "2020-12-20T17:10:33.222131Z",
     "shell.execute_reply": "2020-12-20T17:10:33.222761Z"
    },
    "papermill": {
     "duration": 0.017778,
     "end_time": "2020-12-20T17:10:33.222910",
     "exception": false,
     "start_time": "2020-12-20T17:10:33.205132",
     "status": "completed"
    },
    "tags": []
   },
   "outputs": [],
   "source": [
    "def on_bounded_int_text_changed(c):\n",
    "    update_palette(image, c.new, output, checkbox.value)\n",
    "    \n",
    "boundedIntText.observe(on_bounded_int_text_changed, 'value')"
   ]
  },
  {
   "cell_type": "code",
   "execution_count": 9,
   "metadata": {
    "execution": {
     "iopub.execute_input": "2020-12-20T17:10:33.246003Z",
     "iopub.status.busy": "2020-12-20T17:10:33.245346Z",
     "iopub.status.idle": "2020-12-20T17:10:33.251802Z",
     "shell.execute_reply": "2020-12-20T17:10:33.252387Z"
    },
    "papermill": {
     "duration": 0.019704,
     "end_time": "2020-12-20T17:10:33.252532",
     "exception": false,
     "start_time": "2020-12-20T17:10:33.232828",
     "status": "completed"
    },
    "tags": []
   },
   "outputs": [],
   "source": [
    "def on_file_upload_change(c):\n",
    "    # display image\n",
    "    [uploaded_file] = fileUpload.value\n",
    "    image.value = fileUpload.value[uploaded_file]['content']\n",
    "    image.layout.display = 'inline-block'\n",
    "    boundedIntText.disabled = False\n",
    "    checkbox.disabled = False\n",
    "    update_palette(image, boundedIntText.value, output, checkbox.value)\n",
    "    \n",
    "fileUpload.observe(on_file_upload_change, 'value')"
   ]
  },
  {
   "cell_type": "markdown",
   "metadata": {
    "papermill": {
     "duration": 0.009595,
     "end_time": "2020-12-20T17:10:33.272152",
     "exception": false,
     "start_time": "2020-12-20T17:10:33.262557",
     "status": "completed"
    },
    "tags": []
   },
   "source": [
    "The next line displays the GUI."
   ]
  },
  {
   "cell_type": "code",
   "execution_count": 10,
   "metadata": {
    "execution": {
     "iopub.execute_input": "2020-12-20T17:10:33.295523Z",
     "iopub.status.busy": "2020-12-20T17:10:33.294859Z",
     "iopub.status.idle": "2020-12-20T17:10:33.306141Z",
     "shell.execute_reply": "2020-12-20T17:10:33.306663Z"
    },
    "papermill": {
     "duration": 0.02467,
     "end_time": "2020-12-20T17:10:33.306801",
     "exception": false,
     "start_time": "2020-12-20T17:10:33.282131",
     "status": "completed"
    },
    "tags": []
   },
   "outputs": [
    {
     "data": {
      "application/vnd.jupyter.widget-view+json": {
       "model_id": "a910073394af4aaf973cd92ea6cb0db3",
       "version_major": 2,
       "version_minor": 0
      },
      "text/plain": [
       "HBox(children=(FileUpload(value={}, description='Upload'), BoundedIntText(value=5, description='Clusters:', di…"
      ]
     },
     "metadata": {},
     "output_type": "display_data"
    },
    {
     "data": {
      "application/vnd.jupyter.widget-view+json": {
       "model_id": "3ed87fd657ac4d7a8459f1a9f6d49903",
       "version_major": 2,
       "version_minor": 0
      },
      "text/plain": [
       "Image(value=b'', layout=\"Layout(display='none', width='500px')\")"
      ]
     },
     "metadata": {},
     "output_type": "display_data"
    },
    {
     "data": {
      "application/vnd.jupyter.widget-view+json": {
       "model_id": "94ed6f7c34844bdd9c9b412751a3c54a",
       "version_major": 2,
       "version_minor": 0
      },
      "text/plain": [
       "Output()"
      ]
     },
     "metadata": {},
     "output_type": "display_data"
    }
   ],
   "source": [
    "display(hBox, image, output)"
   ]
  },
  {
   "cell_type": "markdown",
   "metadata": {},
   "source": [
    "Create a color palette by uploading an image and select the number of colors to cluster by. Depending on the number of pixels processing might take a while."
   ]
  },
  {
   "cell_type": "code",
   "execution_count": null,
   "metadata": {},
   "outputs": [],
   "source": []
  }
 ],
 "metadata": {
  "kernelspec": {
   "display_name": "Python 3 (ipykernel)",
   "language": "python",
   "name": "python3"
  },
  "language_info": {
   "codemirror_mode": {
    "name": "ipython",
    "version": 3
   },
   "file_extension": ".py",
   "mimetype": "text/x-python",
   "name": "python",
   "nbconvert_exporter": "python",
   "pygments_lexer": "ipython3",
   "version": "3.8.12"
  },
  "papermill": {
   "duration": 6.977728,
   "end_time": "2020-12-20T17:10:33.427754",
   "environment_variables": {},
   "exception": null,
   "input_path": "__notebook__.ipynb",
   "output_path": "__notebook__.ipynb",
   "parameters": {},
   "start_time": "2020-12-20T17:10:26.450026",
   "version": "2.1.0"
  },
  "widgets": {
   "application/vnd.jupyter.widget-state+json": {
    "state": {
     "039e257b76b146f1831ce2756dc5ce5b": {
      "model_module": "@jupyter-widgets/controls",
      "model_module_version": "1.5.0",
      "model_name": "FileUploadModel",
      "state": {
       "_counter": 0,
       "_dom_classes": [],
       "_model_module": "@jupyter-widgets/controls",
       "_model_module_version": "1.5.0",
       "_model_name": "FileUploadModel",
       "_view_count": null,
       "_view_module": "@jupyter-widgets/controls",
       "_view_module_version": "1.5.0",
       "_view_name": "FileUploadView",
       "accept": "",
       "button_style": "",
       "data": [],
       "description": "Upload",
       "description_tooltip": null,
       "disabled": false,
       "error": "",
       "icon": "upload",
       "layout": "IPY_MODEL_af7c540069cc4228b17e0c1c33aaf1ef",
       "metadata": [],
       "multiple": false,
       "style": "IPY_MODEL_6b91b315b77e438eb0af5a05972d9798"
      }
     },
     "2875b2e77ee548bb8b6f445e47eebbb9": {
      "model_module": "@jupyter-widgets/controls",
      "model_module_version": "1.5.0",
      "model_name": "DescriptionStyleModel",
      "state": {
       "_model_module": "@jupyter-widgets/controls",
       "_model_module_version": "1.5.0",
       "_model_name": "DescriptionStyleModel",
       "_view_count": null,
       "_view_module": "@jupyter-widgets/base",
       "_view_module_version": "1.2.0",
       "_view_name": "StyleView",
       "description_width": ""
      }
     },
     "31f6e21a30d64fc49d5d771ae96410f0": {
      "model_module": "@jupyter-widgets/controls",
      "model_module_version": "1.5.0",
      "model_name": "BoundedIntTextModel",
      "state": {
       "_dom_classes": [],
       "_model_module": "@jupyter-widgets/controls",
       "_model_module_version": "1.5.0",
       "_model_name": "BoundedIntTextModel",
       "_view_count": null,
       "_view_module": "@jupyter-widgets/controls",
       "_view_module_version": "1.5.0",
       "_view_name": "IntTextView",
       "continuous_update": false,
       "description": "Clusters:",
       "description_tooltip": null,
       "disabled": true,
       "layout": "IPY_MODEL_595662ccfdc44ccca97b889dcde1220c",
       "max": 15,
       "min": 2,
       "step": 1,
       "style": "IPY_MODEL_6886d1bd8bf7455b98bfd46f28866e69",
       "value": 5
      }
     },
     "3241701ccc21471ab9cd281975bbd7cd": {
      "buffers": [
       {
        "data": "",
        "encoding": "base64",
        "path": [
         "value"
        ]
       }
      ],
      "model_module": "@jupyter-widgets/controls",
      "model_module_version": "1.5.0",
      "model_name": "ImageModel",
      "state": {
       "_dom_classes": [],
       "_model_module": "@jupyter-widgets/controls",
       "_model_module_version": "1.5.0",
       "_model_name": "ImageModel",
       "_view_count": null,
       "_view_module": "@jupyter-widgets/controls",
       "_view_module_version": "1.5.0",
       "_view_name": "ImageView",
       "format": "png",
       "height": "",
       "layout": "IPY_MODEL_bbdbd7e274f844f3b93571c534c2d9c5",
       "value": {},
       "width": ""
      }
     },
     "3c2d5d9465a04586badc95f5a1f631a3": {
      "model_module": "@jupyter-widgets/controls",
      "model_module_version": "1.5.0",
      "model_name": "CheckboxModel",
      "state": {
       "_dom_classes": [],
       "_model_module": "@jupyter-widgets/controls",
       "_model_module_version": "1.5.0",
       "_model_name": "CheckboxModel",
       "_view_count": null,
       "_view_module": "@jupyter-widgets/controls",
       "_view_module_version": "1.5.0",
       "_view_name": "CheckboxView",
       "description": "Show hex codes:",
       "description_tooltip": null,
       "disabled": true,
       "indent": true,
       "layout": "IPY_MODEL_aeb9bf1e10e242c0aece2d0aef59470f",
       "style": "IPY_MODEL_2875b2e77ee548bb8b6f445e47eebbb9",
       "value": true
      }
     },
     "4ed9795c8e934a9f8f513cee3f3ec6e7": {
      "model_module": "@jupyter-widgets/base",
      "model_module_version": "1.2.0",
      "model_name": "LayoutModel",
      "state": {
       "_model_module": "@jupyter-widgets/base",
       "_model_module_version": "1.2.0",
       "_model_name": "LayoutModel",
       "_view_count": null,
       "_view_module": "@jupyter-widgets/base",
       "_view_module_version": "1.2.0",
       "_view_name": "LayoutView",
       "align_content": null,
       "align_items": null,
       "align_self": null,
       "border": null,
       "bottom": null,
       "display": null,
       "flex": null,
       "flex_flow": null,
       "grid_area": null,
       "grid_auto_columns": null,
       "grid_auto_flow": null,
       "grid_auto_rows": null,
       "grid_column": null,
       "grid_gap": null,
       "grid_row": null,
       "grid_template_areas": null,
       "grid_template_columns": null,
       "grid_template_rows": null,
       "height": null,
       "justify_content": null,
       "justify_items": null,
       "left": null,
       "margin": null,
       "max_height": null,
       "max_width": null,
       "min_height": null,
       "min_width": null,
       "object_fit": null,
       "object_position": null,
       "order": null,
       "overflow": null,
       "overflow_x": null,
       "overflow_y": null,
       "padding": null,
       "right": null,
       "top": null,
       "visibility": null,
       "width": null
      }
     },
     "595662ccfdc44ccca97b889dcde1220c": {
      "model_module": "@jupyter-widgets/base",
      "model_module_version": "1.2.0",
      "model_name": "LayoutModel",
      "state": {
       "_model_module": "@jupyter-widgets/base",
       "_model_module_version": "1.2.0",
       "_model_name": "LayoutModel",
       "_view_count": null,
       "_view_module": "@jupyter-widgets/base",
       "_view_module_version": "1.2.0",
       "_view_name": "LayoutView",
       "align_content": null,
       "align_items": null,
       "align_self": null,
       "border": null,
       "bottom": null,
       "display": null,
       "flex": null,
       "flex_flow": null,
       "grid_area": null,
       "grid_auto_columns": null,
       "grid_auto_flow": null,
       "grid_auto_rows": null,
       "grid_column": null,
       "grid_gap": null,
       "grid_row": null,
       "grid_template_areas": null,
       "grid_template_columns": null,
       "grid_template_rows": null,
       "height": null,
       "justify_content": null,
       "justify_items": null,
       "left": null,
       "margin": null,
       "max_height": null,
       "max_width": null,
       "min_height": null,
       "min_width": null,
       "object_fit": null,
       "object_position": null,
       "order": null,
       "overflow": null,
       "overflow_x": null,
       "overflow_y": null,
       "padding": null,
       "right": null,
       "top": null,
       "visibility": null,
       "width": null
      }
     },
     "6319ddcf5244434e90784df1caf14eae": {
      "model_module": "@jupyter-widgets/base",
      "model_module_version": "1.2.0",
      "model_name": "LayoutModel",
      "state": {
       "_model_module": "@jupyter-widgets/base",
       "_model_module_version": "1.2.0",
       "_model_name": "LayoutModel",
       "_view_count": null,
       "_view_module": "@jupyter-widgets/base",
       "_view_module_version": "1.2.0",
       "_view_name": "LayoutView",
       "align_content": null,
       "align_items": null,
       "align_self": null,
       "border": null,
       "bottom": null,
       "display": null,
       "flex": null,
       "flex_flow": null,
       "grid_area": null,
       "grid_auto_columns": null,
       "grid_auto_flow": null,
       "grid_auto_rows": null,
       "grid_column": null,
       "grid_gap": null,
       "grid_row": null,
       "grid_template_areas": null,
       "grid_template_columns": null,
       "grid_template_rows": null,
       "height": null,
       "justify_content": null,
       "justify_items": null,
       "left": null,
       "margin": null,
       "max_height": null,
       "max_width": null,
       "min_height": null,
       "min_width": null,
       "object_fit": null,
       "object_position": null,
       "order": null,
       "overflow": null,
       "overflow_x": null,
       "overflow_y": null,
       "padding": null,
       "right": null,
       "top": null,
       "visibility": null,
       "width": null
      }
     },
     "6886d1bd8bf7455b98bfd46f28866e69": {
      "model_module": "@jupyter-widgets/controls",
      "model_module_version": "1.5.0",
      "model_name": "DescriptionStyleModel",
      "state": {
       "_model_module": "@jupyter-widgets/controls",
       "_model_module_version": "1.5.0",
       "_model_name": "DescriptionStyleModel",
       "_view_count": null,
       "_view_module": "@jupyter-widgets/base",
       "_view_module_version": "1.2.0",
       "_view_name": "StyleView",
       "description_width": ""
      }
     },
     "6b91b315b77e438eb0af5a05972d9798": {
      "model_module": "@jupyter-widgets/controls",
      "model_module_version": "1.5.0",
      "model_name": "ButtonStyleModel",
      "state": {
       "_model_module": "@jupyter-widgets/controls",
       "_model_module_version": "1.5.0",
       "_model_name": "ButtonStyleModel",
       "_view_count": null,
       "_view_module": "@jupyter-widgets/base",
       "_view_module_version": "1.2.0",
       "_view_name": "StyleView",
       "button_color": null,
       "font_weight": ""
      }
     },
     "94ebf41dd4d644d59e1e9a42827df89a": {
      "model_module": "@jupyter-widgets/controls",
      "model_module_version": "1.5.0",
      "model_name": "HBoxModel",
      "state": {
       "_dom_classes": [],
       "_model_module": "@jupyter-widgets/controls",
       "_model_module_version": "1.5.0",
       "_model_name": "HBoxModel",
       "_view_count": null,
       "_view_module": "@jupyter-widgets/controls",
       "_view_module_version": "1.5.0",
       "_view_name": "HBoxView",
       "box_style": "",
       "children": [
        "IPY_MODEL_039e257b76b146f1831ce2756dc5ce5b",
        "IPY_MODEL_31f6e21a30d64fc49d5d771ae96410f0",
        "IPY_MODEL_3c2d5d9465a04586badc95f5a1f631a3"
       ],
       "layout": "IPY_MODEL_6319ddcf5244434e90784df1caf14eae"
      }
     },
     "aeb9bf1e10e242c0aece2d0aef59470f": {
      "model_module": "@jupyter-widgets/base",
      "model_module_version": "1.2.0",
      "model_name": "LayoutModel",
      "state": {
       "_model_module": "@jupyter-widgets/base",
       "_model_module_version": "1.2.0",
       "_model_name": "LayoutModel",
       "_view_count": null,
       "_view_module": "@jupyter-widgets/base",
       "_view_module_version": "1.2.0",
       "_view_name": "LayoutView",
       "align_content": null,
       "align_items": null,
       "align_self": null,
       "border": null,
       "bottom": null,
       "display": null,
       "flex": null,
       "flex_flow": null,
       "grid_area": null,
       "grid_auto_columns": null,
       "grid_auto_flow": null,
       "grid_auto_rows": null,
       "grid_column": null,
       "grid_gap": null,
       "grid_row": null,
       "grid_template_areas": null,
       "grid_template_columns": null,
       "grid_template_rows": null,
       "height": null,
       "justify_content": null,
       "justify_items": null,
       "left": null,
       "margin": null,
       "max_height": null,
       "max_width": null,
       "min_height": null,
       "min_width": null,
       "object_fit": null,
       "object_position": null,
       "order": null,
       "overflow": null,
       "overflow_x": null,
       "overflow_y": null,
       "padding": null,
       "right": null,
       "top": null,
       "visibility": null,
       "width": null
      }
     },
     "af7c540069cc4228b17e0c1c33aaf1ef": {
      "model_module": "@jupyter-widgets/base",
      "model_module_version": "1.2.0",
      "model_name": "LayoutModel",
      "state": {
       "_model_module": "@jupyter-widgets/base",
       "_model_module_version": "1.2.0",
       "_model_name": "LayoutModel",
       "_view_count": null,
       "_view_module": "@jupyter-widgets/base",
       "_view_module_version": "1.2.0",
       "_view_name": "LayoutView",
       "align_content": null,
       "align_items": null,
       "align_self": null,
       "border": null,
       "bottom": null,
       "display": null,
       "flex": null,
       "flex_flow": null,
       "grid_area": null,
       "grid_auto_columns": null,
       "grid_auto_flow": null,
       "grid_auto_rows": null,
       "grid_column": null,
       "grid_gap": null,
       "grid_row": null,
       "grid_template_areas": null,
       "grid_template_columns": null,
       "grid_template_rows": null,
       "height": null,
       "justify_content": null,
       "justify_items": null,
       "left": null,
       "margin": null,
       "max_height": null,
       "max_width": null,
       "min_height": null,
       "min_width": null,
       "object_fit": null,
       "object_position": null,
       "order": null,
       "overflow": null,
       "overflow_x": null,
       "overflow_y": null,
       "padding": null,
       "right": null,
       "top": null,
       "visibility": null,
       "width": null
      }
     },
     "bbdbd7e274f844f3b93571c534c2d9c5": {
      "model_module": "@jupyter-widgets/base",
      "model_module_version": "1.2.0",
      "model_name": "LayoutModel",
      "state": {
       "_model_module": "@jupyter-widgets/base",
       "_model_module_version": "1.2.0",
       "_model_name": "LayoutModel",
       "_view_count": null,
       "_view_module": "@jupyter-widgets/base",
       "_view_module_version": "1.2.0",
       "_view_name": "LayoutView",
       "align_content": null,
       "align_items": null,
       "align_self": null,
       "border": null,
       "bottom": null,
       "display": "none",
       "flex": null,
       "flex_flow": null,
       "grid_area": null,
       "grid_auto_columns": null,
       "grid_auto_flow": null,
       "grid_auto_rows": null,
       "grid_column": null,
       "grid_gap": null,
       "grid_row": null,
       "grid_template_areas": null,
       "grid_template_columns": null,
       "grid_template_rows": null,
       "height": null,
       "justify_content": null,
       "justify_items": null,
       "left": null,
       "margin": null,
       "max_height": null,
       "max_width": null,
       "min_height": null,
       "min_width": null,
       "object_fit": null,
       "object_position": null,
       "order": null,
       "overflow": null,
       "overflow_x": null,
       "overflow_y": null,
       "padding": null,
       "right": null,
       "top": null,
       "visibility": null,
       "width": "500px"
      }
     },
     "f7f3c0dd9d0547ab8428fe6a30f991a3": {
      "model_module": "@jupyter-widgets/output",
      "model_module_version": "1.0.0",
      "model_name": "OutputModel",
      "state": {
       "_dom_classes": [],
       "_model_module": "@jupyter-widgets/output",
       "_model_module_version": "1.0.0",
       "_model_name": "OutputModel",
       "_view_count": null,
       "_view_module": "@jupyter-widgets/output",
       "_view_module_version": "1.0.0",
       "_view_name": "OutputView",
       "layout": "IPY_MODEL_4ed9795c8e934a9f8f513cee3f3ec6e7",
       "msg_id": "",
       "outputs": []
      }
     }
    },
    "version_major": 2,
    "version_minor": 0
   }
  }
 },
 "nbformat": 4,
 "nbformat_minor": 4
}
